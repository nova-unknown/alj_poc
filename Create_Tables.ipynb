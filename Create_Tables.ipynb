{
 "cells": [
  {
   "cell_type": "markdown",
   "metadata": {
    "application/vnd.databricks.v1+cell": {
     "cellMetadata": {},
     "inputWidgets": {},
     "nuid": "de61f52c-1b24-4717-94ff-46f8f54ee0fe",
     "showTitle": false,
     "tableResultSettingsMap": {},
     "title": ""
    }
   },
   "source": [
    "### To Create the CATALOG"
   ]
  },
  {
   "cell_type": "code",
   "execution_count": 0,
   "metadata": {
    "application/vnd.databricks.v1+cell": {
     "cellMetadata": {},
     "inputWidgets": {},
     "nuid": "eff64efa-f5ac-4bae-b91c-a7d790af3a38",
     "showTitle": false,
     "tableResultSettingsMap": {},
     "title": ""
    }
   },
   "outputs": [],
   "source": [
    "%sql\n",
    "CREATE CATALOG IF NOT EXISTS datalink"
   ]
  },
  {
   "cell_type": "markdown",
   "metadata": {
    "application/vnd.databricks.v1+cell": {
     "cellMetadata": {},
     "inputWidgets": {},
     "nuid": "0fb40cec-0f2d-4811-b1a8-6225e69f6fec",
     "showTitle": false,
     "tableResultSettingsMap": {},
     "title": ""
    }
   },
   "source": [
    "### To Create the SCHEMA"
   ]
  },
  {
   "cell_type": "code",
   "execution_count": 0,
   "metadata": {
    "application/vnd.databricks.v1+cell": {
     "cellMetadata": {},
     "inputWidgets": {},
     "nuid": "f83de713-89e2-42aa-bdd6-7f8ce8d6b398",
     "showTitle": false,
     "tableResultSettingsMap": {},
     "title": ""
    }
   },
   "outputs": [],
   "source": [
    "%sql\n",
    "CREATE SCHEMA lineagedemo"
   ]
  },
  {
   "cell_type": "markdown",
   "metadata": {
    "application/vnd.databricks.v1+cell": {
     "cellMetadata": {},
     "inputWidgets": {},
     "nuid": "7f94f2bc-317d-4d43-814f-62031fe122ce",
     "showTitle": false,
     "tableResultSettingsMap": {},
     "title": ""
    }
   },
   "source": [
    "### Customer Table"
   ]
  },
  {
   "cell_type": "code",
   "execution_count": 0,
   "metadata": {
    "application/vnd.databricks.v1+cell": {
     "cellMetadata": {},
     "inputWidgets": {},
     "nuid": "3d20bfe1-d24d-4c54-96fa-92fd16f3ef9d",
     "showTitle": false,
     "tableResultSettingsMap": {},
     "title": ""
    }
   },
   "outputs": [],
   "source": [
    "%sql\n",
    "CREATE TABLE datalink.lineagedemo.customer (\n",
    "  customer_id STRING,\n",
    "  customer_name STRING,\n",
    "  phone_number STRING,\n",
    "  email STRING\n",
    ");\n",
    "\n",
    "INSERT INTO  datalink.lineagedemo.customer VALUES\n",
    "  ('C001', 'Badr Hassan', '0501234567', 'badr.hassan@email.com'),\n",
    "  ('C002', 'Faisal Ali', '0502345678', 'faisal.ali@email.com'),\n",
    "  ('C003', 'Sara Nasser', '0503456789', 'sara.nasser@email.com');\n"
   ]
  },
  {
   "cell_type": "markdown",
   "metadata": {
    "application/vnd.databricks.v1+cell": {
     "cellMetadata": {},
     "inputWidgets": {},
     "nuid": "355243b1-87b9-49c4-8960-e05abb44b50c",
     "showTitle": false,
     "tableResultSettingsMap": {},
     "title": ""
    }
   },
   "source": [
    "### Service Center Info Table"
   ]
  },
  {
   "cell_type": "code",
   "execution_count": 0,
   "metadata": {
    "application/vnd.databricks.v1+cell": {
     "cellMetadata": {},
     "inputWidgets": {},
     "nuid": "f5b6f599-fa28-4537-926f-b4893e13b991",
     "showTitle": false,
     "tableResultSettingsMap": {},
     "title": ""
    }
   },
   "outputs": [],
   "source": [
    "%sql\n",
    "CREATE TABLE  datalink.lineagedemo.service_center_info (\n",
    "  center_id STRING,\n",
    "  center_name STRING,\n",
    "  location STRING\n",
    ");\n",
    "\n",
    "INSERT INTO datalink.lineagedemo.service_center_info VALUES\n",
    "  ('SC001', 'City Road Center', 'Jeddah - City Road'),\n",
    "  ('SC002', 'Airport Center', 'Riyadh - Airport Road'),\n",
    "  ('SC003', 'Downtown Center', 'Dammam - Downtown');\n"
   ]
  },
  {
   "cell_type": "markdown",
   "metadata": {
    "application/vnd.databricks.v1+cell": {
     "cellMetadata": {},
     "inputWidgets": {},
     "nuid": "26dd62df-4cbd-4c8f-86e2-d3a0d0ba5fdc",
     "showTitle": false,
     "tableResultSettingsMap": {},
     "title": ""
    }
   },
   "source": [
    "### Vehicle Info Table"
   ]
  },
  {
   "cell_type": "code",
   "execution_count": 0,
   "metadata": {
    "application/vnd.databricks.v1+cell": {
     "cellMetadata": {},
     "inputWidgets": {},
     "nuid": "b694e2be-5f8b-46a5-84cb-8300bd0a7798",
     "showTitle": false,
     "tableResultSettingsMap": {},
     "title": ""
    }
   },
   "outputs": [],
   "source": [
    "%sql\n",
    "CREATE TABLE datalink.lineagedemo.vehicle_info (\n",
    "  vehicle_id STRING,\n",
    "  customer_id STRING,\n",
    "  model STRING,\n",
    "  plate_number STRING,\n",
    "  year INT\n",
    ");\n",
    "\n",
    "INSERT INTO datalink.lineagedemo.vehicle_info VALUES\n",
    "  ('V001', 'C001', 'Camry', 'BKM6808', 2025),\n",
    "  ('V002', 'C002', 'Corolla', 'XYZ1234', 2023),\n",
    "  ('V003', 'C003', 'Rav4', 'LMN9876', 2022);\n"
   ]
  },
  {
   "cell_type": "markdown",
   "metadata": {
    "application/vnd.databricks.v1+cell": {
     "cellMetadata": {},
     "inputWidgets": {},
     "nuid": "d1488fa0-e98b-4292-b4e5-87559a07ed7d",
     "showTitle": false,
     "tableResultSettingsMap": {},
     "title": ""
    }
   },
   "source": [
    "### Service Type Table"
   ]
  },
  {
   "cell_type": "code",
   "execution_count": 0,
   "metadata": {
    "application/vnd.databricks.v1+cell": {
     "cellMetadata": {},
     "inputWidgets": {},
     "nuid": "dc3f7992-e196-4372-ab99-57e9e1e9ea26",
     "showTitle": false,
     "tableResultSettingsMap": {},
     "title": ""
    }
   },
   "outputs": [],
   "source": [
    "%sql\n",
    "CREATE TABLE datalink.lineagedemo.service_type (\n",
    "  service_type_id STRING,\n",
    "  service_name STRING,\n",
    "  description STRING\n",
    ");\n",
    "\n",
    "INSERT INTO datalink.lineagedemo.service_type VALUES\n",
    "  ('S001', 'Periodic Maintenance', 'Routine maintenance at mileage intervals'),\n",
    "  ('S002', 'Engine Diagnostics', 'Check engine and performance issues'),\n",
    "  ('S003', 'AC Repair', 'Air conditioning service and repair');\n"
   ]
  },
  {
   "cell_type": "markdown",
   "metadata": {
    "application/vnd.databricks.v1+cell": {
     "cellMetadata": {},
     "inputWidgets": {},
     "nuid": "bc619283-c9ea-43fe-9995-28744ac47f63",
     "showTitle": false,
     "tableResultSettingsMap": {},
     "title": ""
    }
   },
   "source": [
    "### Appointment Slots Table"
   ]
  },
  {
   "cell_type": "code",
   "execution_count": 0,
   "metadata": {
    "application/vnd.databricks.v1+cell": {
     "cellMetadata": {},
     "inputWidgets": {},
     "nuid": "762def27-8694-4655-8cc0-fc0f1a6bd046",
     "showTitle": false,
     "tableResultSettingsMap": {},
     "title": ""
    }
   },
   "outputs": [],
   "source": [
    "%sql\n",
    "CREATE TABLE IF NOT EXISTS datalink.lineagedemo.appointment_slots (\n",
    "  slot_id STRING,\n",
    "  center_id STRING,\n",
    "  slot_datetime TIMESTAMP,\n",
    "  is_available BOOLEAN\n",
    ");\n",
    "\n",
    "INSERT INTO datalink.lineagedemo.appointment_slots (slot_id, center_id, slot_datetime, is_available)\n",
    "VALUES\n",
    "-- May 22, 2025\n",
    "('SL031', 'SC001', '2025-05-22 09:00:00.000000-00:00', true),\n",
    "('SL032', 'SC001', '2025-05-22 11:00:00.000000-00:00', true),\n",
    "('SL033', 'SC001', '2025-05-22 13:00:00.000000-00:00', true),\n",
    "('SL034', 'SC001', '2025-05-22 15:00:00.000000-00:00', true),\n",
    "('SL035', 'SC001', '2025-05-22 17:00:00.000000-00:00', true),\n",
    "('SL036', 'SC002', '2025-05-22 09:00:00.000000-00:00', true),\n",
    "('SL037', 'SC002', '2025-05-22 11:00:00.000000-00:00', true),\n",
    "('SL038', 'SC002', '2025-05-22 13:00:00.000000-00:00', true),\n",
    "('SL039', 'SC002', '2025-05-22 15:00:00.000000-00:00', true),\n",
    "('SL040', 'SC002', '2025-05-22 17:00:00.000000-00:00', true),\n",
    "('SL041', 'SC003', '2025-05-22 09:00:00.000000-00:00', true),\n",
    "('SL042', 'SC003', '2025-05-22 11:00:00.000000-00:00', true),\n",
    "('SL043', 'SC003', '2025-05-22 13:00:00.000000-00:00', true),\n",
    "('SL044', 'SC003', '2025-05-22 15:00:00.000000-00:00', true),\n",
    "('SL045', 'SC003', '2025-05-22 17:00:00.000000-00:00', true),\n",
    "-- May 23, 2025\n",
    "('SL046', 'SC001', '2025-05-23 09:00:00.000000-00:00', true),\n",
    "('SL047', 'SC001', '2025-05-23 11:00:00.000000-00:00', true),\n",
    "('SL048', 'SC001', '2025-05-23 13:00:00.000000-00:00', true),\n",
    "('SL049', 'SC001', '2025-05-23 15:00:00.000000-00:00', true),\n",
    "('SL050', 'SC001', '2025-05-23 17:00:00.000000-00:00', true),\n",
    "('SL051', 'SC002', '2025-05-23 09:00:00.000000-00:00', true),\n",
    "('SL052', 'SC002', '2025-05-23 11:00:00.000000-00:00', true),\n",
    "('SL053', 'SC002', '2025-05-23 13:00:00.000000-00:00', true),\n",
    "('SL054', 'SC002', '2025-05-23 15:00:00.000000-00:00', true),\n",
    "('SL055', 'SC002', '2025-05-23 17:00:00.000000-00:00', true),\n",
    "('SL056', 'SC003', '2025-05-23 09:00:00.000000-00:00', true),\n",
    "('SL057', 'SC003', '2025-05-23 11:00:00.000000-00:00', true),\n",
    "('SL058', 'SC003', '2025-05-23 13:00:00.000000-00:00', true),\n",
    "('SL059', 'SC003', '2025-05-23 15:00:00.000000-00:00', true),\n",
    "('SL060', 'SC003', '2025-05-23 17:00:00.000000-00:00', true),\n",
    "-- May 24, 2025\n",
    "('SL061', 'SC001', '2025-05-24 09:00:00.000000-00:00', true),\n",
    "('SL062', 'SC001', '2025-05-24 11:00:00.000000-00:00', true),\n",
    "('SL063', 'SC001', '2025-05-24 13:00:00.000000-00:00', true),\n",
    "('SL064', 'SC001', '2025-05-24 15:00:00.000000-00:00', true),\n",
    "('SL065', 'SC001', '2025-05-24 17:00:00.000000-00:00', true),\n",
    "('SL066', 'SC002', '2025-05-24 09:00:00.000000-00:00', true),\n",
    "('SL067', 'SC002', '2025-05-24 11:00:00.000000-00:00', true),\n",
    "('SL068', 'SC002', '2025-05-24 13:00:00.000000-00:00', true),\n",
    "('SL069', 'SC002', '2025-05-24 15:00:00.000000-00:00', true),\n",
    "('SL070', 'SC002', '2025-05-24 17:00:00.000000-00:00', true),\n",
    "('SL071', 'SC003', '2025-05-24 09:00:00.000000-00:00', true),\n",
    "('SL072', 'SC003', '2025-05-24 11:00:00.000000-00:00', true),\n",
    "('SL073', 'SC003', '2025-05-24 13:00:00.000000-00:00', true),\n",
    "('SL074', 'SC003', '2025-05-24 15:00:00.000000-00:00', true),\n",
    "('SL075', 'SC003', '2025-05-24 17:00:00.000000-00:00', true),\n",
    "-- May 25, 2025\n",
    "('SL076', 'SC001', '2025-05-25 09:00:00.000000-00:00', true),\n",
    "('SL077', 'SC001', '2025-05-25 11:00:00.000000-00:00', true),\n",
    "('SL078', 'SC001', '2025-05-25 13:00:00.000000-00:00', true),\n",
    "('SL079', 'SC001', '2025-05-25 15:00:00.000000-00:00', true),\n",
    "('SL080', 'SC001', '2025-05-25 17:00:00.000000-00:00', true),\n",
    "('SL081', 'SC002', '2025-05-25 09:00:00.000000-00:00', true),\n",
    "('SL082', 'SC002', '2025-05-25 11:00:00.000000-00:00', true),\n",
    "('SL083', 'SC002', '2025-05-25 13:00:00.000000-00:00', true),\n",
    "('SL084', 'SC002', '2025-05-25 15:00:00.000000-00:00', true),\n",
    "('SL085', 'SC002', '2025-05-25 17:00:00.000000-00:00', true),\n",
    "('SL086', 'SC003', '2025-05-25 09:00:00.000000-00:00', true),\n",
    "('SL087', 'SC003', '2025-05-25 11:00:00.000000-00:00', true),\n",
    "('SL088', 'SC003', '2025-05-25 13:00:00.000000-00:00', true),\n",
    "('SL089', 'SC003', '2025-05-25 15:00:00.000000-00:00', true),\n",
    "('SL090', 'SC003', '2025-05-25 17:00:00.000000-00:00', true),\n",
    "-- May 26, 2025\n",
    "('SL091', 'SC001', '2025-05-26 09:00:00.000000-00:00', true),\n",
    "('SL092', 'SC001', '2025-05-26 11:00:00.000000-00:00', true),\n",
    "('SL093', 'SC001', '2025-05-26 13:00:00.000000-00:00', true),\n",
    "('SL094', 'SC001', '2025-05-26 15:00:00.000000-00:00', true),\n",
    "('SL095', 'SC001', '2025-05-26 17:00:00.000000-00:00', true),\n",
    "('SL096', 'SC002', '2025-05-26 09:00:00.000000-00:00', true),\n",
    "('SL097', 'SC002', '2025-05-26 11:00:00.000000-00:00', true),\n",
    "('SL098', 'SC002', '2025-05-26 13:00:00.000000-00:00', true),\n",
    "('SL099', 'SC002', '2025-05-26 15:00:00.000000-00:00', true),\n",
    "('SL100', 'SC002', '2025-05-26 17:00:00.000000-00:00', true),\n",
    "('SL101', 'SC003', '2025-05-26 09:00:00.000000-00:00', true),\n",
    "('SL102', 'SC003', '2025-05-26 11:00:00.000000-00:00', true),\n",
    "('SL103', 'SC003', '2025-05-26 13:00:00.000000-00:00', true),\n",
    "('SL104', 'SC003', '2025-05-26 15:00:00.000000-00:00', true),\n",
    "('SL105', 'SC003', '2025-05-26 17:00:00.000000-00:00', true),\n",
    "-- May 27, 2025\n",
    "('SL106', 'SC001', '2025-05-27 09:00:00.000000-00:00', true),\n",
    "('SL107', 'SC001', '2025-05-27 11:00:00.000000-00:00', true),\n",
    "('SL108', 'SC001', '2025-05-27 13:00:00.000000-00:00', true),\n",
    "('SL109', 'SC001', '2025-05-27 15:00:00.000000-00:00', true),\n",
    "('SL110', 'SC001', '2025-05-27 17:00:00.000000-00:00', true),\n",
    "('SL111', 'SC002', '2025-05-27 09:00:00.000000-00:00', true),\n",
    "('SL112', 'SC002', '2025-05-27 11:00:00.000000-00:00', true),\n",
    "('SL113', 'SC002', '2025-05-27 13:00:00.000000-00:00', true),\n",
    "('SL114', 'SC002', '2025-05-27 15:00:00.000000-00:00', true),\n",
    "('SL115', 'SC002', '2025-05-27 17:00:00.000000-00:00', true),\n",
    "('SL116', 'SC003', '2025-05-27 09:00:00.000000-00:00', true),\n",
    "('SL117', 'SC003', '2025-05-27 11:00:00.000000-00:00', true),\n",
    "('SL118', 'SC003', '2025-05-27 13:00:00.000000-00:00', true),\n",
    "('SL119', 'SC003', '2025-05-27 15:00:00.000000-00:00', true),\n",
    "('SL120', 'SC003', '2025-05-27 17:00:00.000000-00:00', true),\n",
    "-- May 28, 2025\n",
    "('SL121', 'SC001', '2025-05-28 09:00:00.000000-00:00', true),\n",
    "('SL122', 'SC001', '2025-05-28 11:00:00.000000-00:00', true),\n",
    "('SL123', 'SC001', '2025-05-28 13:00:00.000000-00:00', true),\n",
    "('SL124', 'SC001', '2025-05-28 15:00:00.000000-00:00', true),\n",
    "('SL125', 'SC001', '2025-05-28 17:00:00.000000-00:00', true),\n",
    "('SL126', 'SC002', '2025-05-28 09:00:00.000000-00:00', true),\n",
    "('SL127', 'SC002', '2025-05-28 11:00:00.000000-00:00', true),\n",
    "('SL128', 'SC002', '2025-05-28 13:00:00.000000-00:00', true),\n",
    "('SL129', 'SC002', '2025-05-28 15:00:00.000000-00:00', true),\n",
    "('SL130', 'SC002', '2025-05-28 17:00:00.000000-00:00', true),\n",
    "('SL131', 'SC003', '2025-05-28 09:00:00.000000-00:00', true),\n",
    "('SL132', 'SC003', '2025-05-28 11:00:00.000000-00:00', true),\n",
    "('SL133', 'SC003', '2025-05-28 13:00:00.000000-00:00', true),\n",
    "('SL134', 'SC003', '2025-05-28 15:00:00.000000-00:00', true),\n",
    "('SL135', 'SC003', '2025-05-28 17:00:00.000000-00:00', true),\n",
    "-- May 29, 2025\n",
    "('SL136', 'SC001', '2025-05-29 09:00:00.000000-00:00', true),\n",
    "('SL137', 'SC001', '2025-05-29 11:00:00.000000-00:00', true),\n",
    "('SL138', 'SC001', '2025-05-29 13:00:00.000000-00:00', true),\n",
    "('SL139', 'SC001', '2025-05-29 15:00:00.000000-00:00', true),\n",
    "('SL140', 'SC001', '2025-05-29 17:00:00.000000-00:00', true),\n",
    "('SL141', 'SC002', '2025-05-29 09:00:00.000000-00:00', true),\n",
    "('SL142', 'SC002', '2025-05-29 11:00:00.000000-00:00', true),\n",
    "('SL143', 'SC002', '2025-05-29 13:00:00.000000-00:00', true),\n",
    "('SL144', 'SC002', '2025-05-29 15:00:00.000000-00:00', true),\n",
    "('SL145', 'SC002', '2025-05-29 17:00:00.000000-00:00', true),\n",
    "('SL146', 'SC003', '2025-05-29 09:00:00.000000-00:00', true),\n",
    "('SL147', 'SC003', '2025-05-29 11:00:00.000000-00:00', true),\n",
    "('SL148', 'SC003', '2025-05-29 13:00:00.000000-00:00', true),\n",
    "('SL149', 'SC003', '2025-05-29 15:00:00.000000-00:00', true),\n",
    "('SL150', 'SC003', '2025-05-29 17:00:00.000000-00:00', true),\n",
    "-- May 30, 2025\n",
    "('SL151', 'SC001', '2025-05-30 09:00:00.000000-00:00', true),\n",
    "('SL152', 'SC001', '2025-05-30 11:00:00.000000-00:00', true),\n",
    "('SL153', 'SC001', '2025-05-30 13:00:00.000000-00:00', true),\n",
    "('SL154', 'SC001', '2025-05-30 15:00:00.000000-00:00', true),\n",
    "('SL155', 'SC001', '2025-05-30 17:00:00.000000-00:00', true),\n",
    "('SL156', 'SC002', '2025-05-30 09:00:00.000000-00:00', true),\n",
    "('SL157', 'SC002', '2025-05-30 11:00:00.000000-00:00', true),\n",
    "('SL158', 'SC002', '2025-05-30 13:00:00.000000-00:00', true),\n",
    "('SL159', 'SC002', '2025-05-30 15:00:00.000000-00:00', true),\n",
    "('SL160', 'SC002', '2025-05-30 17:00:00.000000-00:00', true),\n",
    "('SL161', 'SC003', '2025-05-30 09:00:00.000000-00:00', true),\n",
    "('SL162', 'SC003', '2025-05-30 11:00:00.000000-00:00', true),\n",
    "('SL163', 'SC003', '2025-05-30 13:00:00.000000-00:00', true),\n",
    "('SL164', 'SC003', '2025-05-30 15:00:00.000000-00:00', true),\n",
    "('SL165', 'SC003', '2025-05-30 17:00:00.000000-00:00', true);"
   ]
  },
  {
   "cell_type": "markdown",
   "metadata": {
    "application/vnd.databricks.v1+cell": {
     "cellMetadata": {},
     "inputWidgets": {},
     "nuid": "271ef7eb-40e6-4b6e-a139-f0eb9e611dcb",
     "showTitle": false,
     "tableResultSettingsMap": {},
     "title": ""
    }
   },
   "source": [
    "### Booking Status Info Table"
   ]
  },
  {
   "cell_type": "code",
   "execution_count": 0,
   "metadata": {
    "application/vnd.databricks.v1+cell": {
     "cellMetadata": {},
     "inputWidgets": {},
     "nuid": "073a22ba-b0be-48b1-87f9-34b7ab7e94ad",
     "showTitle": false,
     "tableResultSettingsMap": {},
     "title": ""
    }
   },
   "outputs": [],
   "source": [
    "%sql\n",
    "CREATE TABLE IF NOT EXISTS datalink.lineagedemo.booking_status_info (\n",
    "  booking_id STRING,\n",
    "  customer_id STRING,\n",
    "  vehicle_id STRING,\n",
    "  center_id STRING,\n",
    "  slot_id STRING,\n",
    "  service_type_id STRING,\n",
    "  status STRING\n",
    ");\n",
    "\n",
    "INSERT INTO datalink.lineagedemo.booking_status_info VALUES\n",
    "  ('B001', 'C001', 'V001', 'SC001', 'SL003', 'S001', 'Confirmed'),\n",
    "  ('B002', 'C002', 'V002', 'SC002', 'SL004', 'S002', 'Pending'),\n",
    "  ('B003', 'C003', 'V003', 'SC003', 'SL005', 'S003', 'Confirmed');\n"
   ]
  }
 ],
 "metadata": {
  "application/vnd.databricks.v1+notebook": {
   "computePreferences": null,
   "dashboards": [],
   "environmentMetadata": {
    "base_environment": "",
    "environment_version": "2"
   },
   "inputWidgetPreferences": null,
   "language": "python",
   "notebookMetadata": {
    "mostRecentlyExecutedCommandWithImplicitDF": {
     "commandId": 7153466416053491,
     "dataframes": [
      "_sqldf"
     ]
    },
    "pythonIndentUnit": 4
   },
   "notebookName": "Create_Tables",
   "widgets": {}
  },
  "language_info": {
   "name": "python"
  }
 },
 "nbformat": 4,
 "nbformat_minor": 0
}
