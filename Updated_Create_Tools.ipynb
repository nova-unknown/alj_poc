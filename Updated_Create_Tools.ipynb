{
 "cells": [
  {
   "cell_type": "markdown",
   "metadata": {
    "application/vnd.databricks.v1+cell": {
     "cellMetadata": {},
     "inputWidgets": {},
     "nuid": "72736dfc-f636-44d9-a644-db60feea4550",
     "showTitle": false,
     "tableResultSettingsMap": {},
     "title": ""
    }
   },
   "source": [
    "### INSERT CUSTOMER DETAILS"
   ]
  },
  {
   "cell_type": "code",
   "execution_count": 0,
   "metadata": {
    "application/vnd.databricks.v1+cell": {
     "cellMetadata": {
      "byteLimit": 2048000,
      "implicitDf": true,
      "rowLimit": 10000
     },
     "inputWidgets": {},
     "nuid": "996cdacd-3808-424e-b107-33bf5db32152",
     "showTitle": false,
     "tableResultSettingsMap": {},
     "title": ""
    }
   },
   "outputs": [],
   "source": [
    "%sql\n",
    "CREATE OR REPLACE FUNCTION datalink.lineagedemo.insert_customer_details(\n",
    "    customer_name STRING,\n",
    "    phone_number STRING,\n",
    "    email STRING\n",
    ")\n",
    "RETURNS STRING\n",
    "LANGUAGE PYTHON\n",
    "COMMENT 'Inserts a new customer record into the customer table'\n",
    "AS $$\n",
    "\n",
    "\"\"\"\n",
    "Inserts a new customer record into the datalink.lineagedemo.customer table.\n",
    "\n",
    "Parameters:\n",
    "    customer_name: Name of the customer.\n",
    "    phone_number: Contact number of the customer.\n",
    "    email: Email address of the customer.\n",
    "\n",
    "Returns:\n",
    "    A string indicating success with customer ID, or failure with error details.\n",
    "\"\"\"\n",
    "import requests\n",
    "import json\n",
    "import uuid\n",
    "import re\n",
    "\n",
    "# Configuration for Databricks SQL API\n",
    "url = \"\"\n",
    "warehouse_id = \"\"\n",
    "bearer_token = \"\"  \n",
    "# Generate a unique customer ID\n",
    "customer_id = str(uuid.uuid4())\n",
    "\n",
    "# Normalize phone number\n",
    "phone_number = re.sub(r'\\D', '', phone_number)\n",
    "\n",
    "# SQL statement to insert customer data\n",
    "statement = f\"\"\"\n",
    "INSERT INTO datalink.lineagedemo.customer(\n",
    "    customer_id, customer_name, phone_number, email\n",
    ")\n",
    "VALUES (\n",
    "    '{customer_id}', '{customer_name}', '{phone_number}', '{email}'\n",
    ")\n",
    "\"\"\"\n",
    "# Set HTTP headers for the API request\n",
    "headers = {\n",
    "    \"Authorization\": f\"Bearer {bearer_token}\",\n",
    "    \"Content-Type\": \"application/json\"\n",
    "}\n",
    "# Prepare the payload with SQL statement and settings\n",
    "payload = {\n",
    "    \"statement\": statement,\n",
    "    \"wait_timeout\": \"50s\",\n",
    "    \"warehouse_id\": warehouse_id\n",
    "}\n",
    "# Make the POST request to Databricks SQL API\n",
    "response = requests.post(url, headers=headers, json=payload)\n",
    "# Return success or error message based on response\n",
    "if response.status_code == 200:\n",
    "    return f\"Customer created. ID: {customer_id}\"\n",
    "else:\n",
    "    return f\"Failed: {response.status_code} - {response.text}\"\n",
    "$$;"
   ]
  },
  {
   "cell_type": "markdown",
   "metadata": {
    "application/vnd.databricks.v1+cell": {
     "cellMetadata": {},
     "inputWidgets": {},
     "nuid": "29777a47-b2c0-457d-89e4-a652dd52fcad",
     "showTitle": false,
     "tableResultSettingsMap": {},
     "title": ""
    }
   },
   "source": [
    "### INSERT VEHICLE DETAILS"
   ]
  },
  {
   "cell_type": "code",
   "execution_count": 0,
   "metadata": {
    "application/vnd.databricks.v1+cell": {
     "cellMetadata": {
      "byteLimit": 2048000,
      "implicitDf": true,
      "rowLimit": 10000
     },
     "inputWidgets": {},
     "nuid": "a20b3473-c3c3-4073-b838-afa34fd5ea95",
     "showTitle": false,
     "tableResultSettingsMap": {},
     "title": ""
    }
   },
   "outputs": [],
   "source": [
    "%sql\n",
    "CREATE OR REPLACE FUNCTION datalink.lineagedemo.insert_vehicle_details(\n",
    "    cutomer_id STRING COMMENT 'Unique identifier for the customer owning the vehicle',\n",
    "    model STRING COMMENT 'Model name or type of the vehicle',\n",
    "    plate_number STRING COMMENT 'Vehicle registration plate number',\n",
    "    year STRING COMMENT 'Manufacturing year of the vehicle'\n",
    ")\n",
    "RETURNS STRING\n",
    "LANGUAGE PYTHON\n",
    "COMMENT 'Inserts a new vehicle record into the vehicle_info table using Databricks SQL API.'\n",
    "AS $$\n",
    "\n",
    "import requests\n",
    "import json\n",
    "import uuid\n",
    "\n",
    "# Static configuration - Databricks SQL endpoint details\n",
    "url = \"\"\n",
    "warehouse_id = \"\"\n",
    "bearer_token = \"\"   # Store securely in production\n",
    "\n",
    "# Generate a new unique vehicle ID\n",
    "vehicle_id = str(uuid.uuid4())\n",
    "\n",
    "# Prepare SQL statement to insert the vehicle record\n",
    "statement = f\"\"\"\n",
    "INSERT INTO datalink.lineagedemo.vehicle_info(\n",
    "    vehicle_id, customer_id, model, plate_number, year\n",
    ")\n",
    "VALUES (\n",
    "    '{vehicle_id}', '{cutomer_id}', '{model}', '{plate_number}', '{year}'\n",
    ")\n",
    "\"\"\"\n",
    "\n",
    "# Set the headers for the API request\n",
    "headers = {\n",
    "    \"Authorization\": f\"Bearer {bearer_token}\",\n",
    "    \"Content-Type\": \"application/json\"\n",
    "}\n",
    "\n",
    "# Create the request payload\n",
    "payload = {\n",
    "    \"statement\": statement,\n",
    "    \"wait_timeout\": \"50s\",\n",
    "    \"warehouse_id\": warehouse_id\n",
    "}\n",
    "\n",
    "# Send the SQL execution request\n",
    "response = requests.post(url, headers=headers, json=payload)\n",
    "\n",
    "# Handle response\n",
    "if response.status_code == 200:\n",
    "    return f\"Vehicle info created. ID: {vehicle_id}\"\n",
    "else:\n",
    "    return f\"Failed: {response.status_code} - {response.text}\"\n",
    "\n",
    "$$;\n"
   ]
  },
  {
   "cell_type": "markdown",
   "metadata": {
    "application/vnd.databricks.v1+cell": {
     "cellMetadata": {},
     "inputWidgets": {},
     "nuid": "1cc09aea-9197-425e-b2ae-5475fc225f2a",
     "showTitle": false,
     "tableResultSettingsMap": {},
     "title": ""
    }
   },
   "source": [
    "### GET BOOKING STATUS INFO"
   ]
  },
  {
   "cell_type": "code",
   "execution_count": 0,
   "metadata": {
    "application/vnd.databricks.v1+cell": {
     "cellMetadata": {
      "byteLimit": 2048000,
      "implicitDf": true,
      "rowLimit": 10000
     },
     "inputWidgets": {},
     "nuid": "81ddb5f9-6af0-42ec-8705-db7dd9fb4c87",
     "showTitle": false,
     "tableResultSettingsMap": {},
     "title": ""
    }
   },
   "outputs": [],
   "source": [
    "%sql\n",
    "CREATE OR REPLACE FUNCTION datalink.lineagedemo.get_booking_status_info(\n",
    "    vehicle_id STRING COMMENT 'Unique identifier of the vehicle to fetch booking status for'\n",
    ")\n",
    "RETURNS TABLE(\n",
    "    booking_id STRING COMMENT 'Unique ID of the booking',\n",
    "    center_id STRING COMMENT 'Service center ID where the booking was made',\n",
    "    center_name STRING COMMENT 'Name or location of the service center',\n",
    "    slot_id STRING COMMENT 'ID of the booked appointment slot',\n",
    "    slot_datetime TIMESTAMP COMMENT 'Date and time of the booked slot',\n",
    "    service_name STRING COMMENT 'Name of the service type booked',\n",
    "    status STRING COMMENT 'Current status of the booking (e.g., Confirmed, Cancelled)'\n",
    ")\n",
    "COMMENT 'Returns booking status details for a given vehicle including service center, slot info, service name, and status'\n",
    "RETURN (\n",
    "    SELECT \n",
    "        bsi.booking_id,\n",
    "        bsi.center_id,\n",
    "        sci.location,\n",
    "        bsi.slot_id,\n",
    "        aslot.slot_datetime,\n",
    "        st.service_name,\n",
    "        bsi.status\n",
    "    FROM \n",
    "        datalink.lineagedemo.booking_status_info bsi\n",
    "    JOIN \n",
    "        datalink.lineagedemo.appointment_slots aslot \n",
    "        ON bsi.slot_id = aslot.slot_id\n",
    "    JOIN \n",
    "        datalink.lineagedemo.service_type st \n",
    "        ON bsi.service_type_id = st.service_type_id\n",
    "    JOIN \n",
    "        datalink.lineagedemo.service_center_info sci \n",
    "        ON bsi.center_id = sci.center_id\n",
    "    WHERE \n",
    "        bsi.vehicle_id = get_booking_status_info.vehicle_id\n",
    ")\n"
   ]
  },
  {
   "cell_type": "markdown",
   "metadata": {
    "application/vnd.databricks.v1+cell": {
     "cellMetadata": {},
     "inputWidgets": {},
     "nuid": "c14ff082-f46b-424b-a252-ab749c557dfc",
     "showTitle": false,
     "tableResultSettingsMap": {},
     "title": ""
    }
   },
   "source": [
    "### GET AVAILABLE SLOTS"
   ]
  },
  {
   "cell_type": "code",
   "execution_count": 0,
   "metadata": {
    "application/vnd.databricks.v1+cell": {
     "cellMetadata": {
      "byteLimit": 2048000,
      "implicitDf": true,
      "rowLimit": 10000
     },
     "inputWidgets": {},
     "nuid": "c8544a06-5578-4016-be31-5a9ffb268a2f",
     "showTitle": false,
     "tableResultSettingsMap": {},
     "title": ""
    }
   },
   "outputs": [],
   "source": [
    "%sql\n",
    "CREATE OR REPLACE FUNCTION datalink.lineagedemo.get_available_slots(\n",
    "    center_name STRING COMMENT 'Name or location keyword of the service center to search for available slots'\n",
    ")\n",
    "RETURNS TABLE(\n",
    "    slot_id STRING COMMENT 'Unique identifier of the appointment slot',\n",
    "    center_id STRING COMMENT 'Identifier of the service center',\n",
    "    location STRING COMMENT 'Physical location of the service center',\n",
    "    slot_datetime TIMESTAMP COMMENT 'Date and time of the available appointment slot',\n",
    "    is_available BOOLEAN COMMENT 'Indicates if the slot is currently available for booking'\n",
    ")\n",
    "COMMENT 'Returns available appointment slots filtered by center name or location keyword. If center_name is NULL or empty, returns available future slots across all centers.'\n",
    "RETURN \n",
    "(\n",
    "  SELECT \n",
    "    a.slot_id,\n",
    "    b.center_id, \n",
    "    b.location,                           \n",
    "    a.slot_datetime,                      \n",
    "    a.is_available                        \n",
    "  FROM \n",
    "    datalink.lineagedemo.appointment_slots a \n",
    "  JOIN \n",
    "    datalink.lineagedemo.service_center_info b \n",
    "    ON a.center_id = b.center_id\n",
    "  WHERE \n",
    "    (\n",
    "      center_name IS NULL \n",
    "      OR center_name = '' \n",
    "      OR lower(b.location) LIKE '%' || lower(center_name) || '%' \n",
    "      OR lower(b.center_name) LIKE '%' || lower(center_name) || '%'\n",
    "    )\n",
    "    AND a.is_available = TRUE                -- Only show slots that are currently available\n",
    "    AND a.slot_datetime >= CURRENT_TIMESTAMP() -- Only include slots from now onwards\n",
    "  ORDER BY \n",
    "    a.slot_datetime                         -- Sort results by earliest slot first\n",
    ");\n"
   ]
  },
  {
   "cell_type": "markdown",
   "metadata": {
    "application/vnd.databricks.v1+cell": {
     "cellMetadata": {},
     "inputWidgets": {},
     "nuid": "bd2fa74d-1bf8-4652-93dc-f101f542d295",
     "showTitle": false,
     "tableResultSettingsMap": {},
     "title": ""
    }
   },
   "source": [
    "### IS_SLOT_UPDATE_ALLOWED"
   ]
  },
  {
   "cell_type": "code",
   "execution_count": 0,
   "metadata": {
    "application/vnd.databricks.v1+cell": {
     "cellMetadata": {
      "byteLimit": 2048000,
      "implicitDf": true,
      "rowLimit": 10000
     },
     "inputWidgets": {},
     "nuid": "f86c2704-785f-424e-ad9c-c143ebedb938",
     "showTitle": false,
     "tableResultSettingsMap": {},
     "title": ""
    }
   },
   "outputs": [],
   "source": [
    "%sql\n",
    "CREATE OR REPLACE FUNCTION datalink.lineagedemo.is_slot_update_allowed(\n",
    "    booking_id STRING COMMENT 'Unique identifier of the booking to check if the slot update is allowed'\n",
    ")\n",
    "RETURNS BOOLEAN\n",
    "COMMENT 'Returns TRUE if the booking\\'s scheduled slot is more than 48 hours in the future, allowing updates; otherwise returns FALSE.'\n",
    "RETURN\n",
    "(\n",
    "    SELECT CASE \n",
    "        WHEN MIN(slot_datetime) - CURRENT_TIMESTAMP > INTERVAL 48 HOURS THEN TRUE  -- Update allowed\n",
    "        ELSE FALSE                                                                 -- Update not allowed\n",
    "    END\n",
    "    FROM datalink.lineagedemo.appointment_slots a\n",
    "    JOIN datalink.lineagedemo.booking_status_info b\n",
    "        ON a.slot_id = b.slot_id\n",
    "    WHERE b.booking_id = is_slot_update_allowed.booking_id\n",
    ");\n"
   ]
  },
  {
   "cell_type": "markdown",
   "metadata": {
    "application/vnd.databricks.v1+cell": {
     "cellMetadata": {},
     "inputWidgets": {},
     "nuid": "149b3891-9b82-4625-8055-b7c94665513d",
     "showTitle": false,
     "tableResultSettingsMap": {},
     "title": ""
    }
   },
   "source": [
    "### GET_AVAILABLE_SERVICE"
   ]
  },
  {
   "cell_type": "code",
   "execution_count": 0,
   "metadata": {
    "application/vnd.databricks.v1+cell": {
     "cellMetadata": {
      "byteLimit": 2048000,
      "implicitDf": true,
      "rowLimit": 10000
     },
     "inputWidgets": {},
     "nuid": "c39f48d7-ebf2-471d-802d-085034bad62f",
     "showTitle": false,
     "tableResultSettingsMap": {},
     "title": ""
    }
   },
   "outputs": [],
   "source": [
    "%sql\n",
    "CREATE OR REPLACE FUNCTION datalink.lineagedemo.get_available_service()\n",
    "RETURNS TABLE(\n",
    "    service_type_id STRING COMMENT 'Unique identifier for the type of service',\n",
    "    service_name STRING COMMENT 'Name of the available service',\n",
    "    description STRING COMMENT 'Description of the service offered'\n",
    ")\n",
    "COMMENT 'Returns a list of all available services from the service_type table.'\n",
    "RETURN (\n",
    "  SELECT *\n",
    "  FROM datalink.lineagedemo.service_type\n",
    ");\n"
   ]
  },
  {
   "cell_type": "markdown",
   "metadata": {
    "application/vnd.databricks.v1+cell": {
     "cellMetadata": {},
     "inputWidgets": {},
     "nuid": "a5fd0c12-335e-450c-a42f-3d81291cb4d3",
     "showTitle": false,
     "tableResultSettingsMap": {},
     "title": ""
    }
   },
   "source": [
    "### PROCESS_BOOKING_STATUS"
   ]
  },
  {
   "cell_type": "code",
   "execution_count": 0,
   "metadata": {
    "application/vnd.databricks.v1+cell": {
     "cellMetadata": {
      "byteLimit": 2048000,
      "implicitDf": true,
      "rowLimit": 10000
     },
     "inputWidgets": {},
     "nuid": "79f90aa1-7431-42fa-9171-54631c03a6c3",
     "showTitle": false,
     "tableResultSettingsMap": {},
     "title": ""
    }
   },
   "outputs": [],
   "source": [
    "%sql\n",
    "CREATE OR REPLACE FUNCTION datalink.lineagedemo.process_booking_status(\n",
    "    customer_id STRING COMMENT 'Unique ID of the customer making the booking',\n",
    "    vehicle_id STRING COMMENT 'Vehicle ID associated with the booking',\n",
    "    center_id STRING COMMENT 'Service center ID where the booking is scheduled',\n",
    "    slot_id STRING COMMENT 'Time slot ID selected for the booking',\n",
    "    service_type_id STRING COMMENT 'Type of service to be performed',\n",
    "    old_slot_id STRING COMMENT 'Old slot ID used to update or release availability',\n",
    "    operation_type STRING COMMENT 'Type of operation: INSERT, UPDATE, or DELETE'\n",
    ")\n",
    "RETURNS STRING\n",
    "LANGUAGE PYTHON\n",
    "COMMENT 'Performs INSERT, UPDATE, or DELETE operations on booking_status_info, and updates appointment_slots availability accordingly.'\n",
    "AS $$\n",
    "import requests\n",
    "import json\n",
    "import uuid\n",
    "\n",
    "# Static configuration\n",
    "url = \"\"\n",
    "warehouse_id = \"\"\n",
    "bearer_token = \"\"   # Store securely in production\n",
    "\n",
    "# Generate booking ID for INSERT operations\n",
    "booking_id = str(uuid.uuid4()) if operation_type == \"INSERT\" else \"\"\n",
    "\n",
    "# Construct main SQL statement based on operation type\n",
    "if operation_type == \"INSERT\":\n",
    "    # Insert a new booking with CONFIRMED status\n",
    "    statement = f\"\"\"\n",
    "    INSERT INTO datalink.lineagedemo.booking_status_info (\n",
    "        booking_id, customer_id, vehicle_id, center_id, slot_id, service_type_id, status\n",
    "    )\n",
    "    VALUES (\n",
    "        '{booking_id}', '{customer_id}', '{vehicle_id}', '{center_id}', '{slot_id}', '{service_type_id}', 'CONFIRMED'\n",
    "    );\n",
    "    \"\"\"\n",
    "elif operation_type == \"UPDATE\":\n",
    "    # Update the booking details\n",
    "    statement = f\"\"\"\n",
    "    UPDATE datalink.lineagedemo.booking_status_info\n",
    "    SET status = 'CONFIRMED',\n",
    "        center_id = '{center_id}',\n",
    "        slot_id = '{slot_id}',\n",
    "        service_type_id = '{service_type_id}'\n",
    "    WHERE customer_id = '{customer_id}' AND vehicle_id = '{vehicle_id}';\n",
    "    \"\"\"\n",
    "elif operation_type == \"DELETE\":\n",
    "    # Delete the booking\n",
    "    statement = f\"\"\"\n",
    "    DELETE FROM datalink.lineagedemo.booking_status_info\n",
    "    WHERE customer_id = '{customer_id}' AND vehicle_id = '{vehicle_id}';\n",
    "    \"\"\"\n",
    "else:\n",
    "    return f\"Invalid operation type: {operation_type}. Use INSERT, UPDATE, or DELETE.\"\n",
    "\n",
    "# Prepare slot update statements\n",
    "slot_update_statements = []\n",
    "\n",
    "# If inserting or updating to a new slot, mark it unavailable\n",
    "if operation_type == \"INSERT\" or (operation_type == \"UPDATE\" and old_slot_id != slot_id):\n",
    "    slot_update_statements.append(f\"\"\"\n",
    "    UPDATE datalink.lineagedemo.appointment_slots\n",
    "    SET is_available = FALSE\n",
    "    WHERE slot_id = '{slot_id}';\n",
    "    \"\"\")\n",
    "\n",
    "# If deleting or updating away from old slot, free up old slot\n",
    "if operation_type == \"DELETE\" or (operation_type == \"UPDATE\" and old_slot_id != slot_id):\n",
    "    if old_slot_id:\n",
    "        slot_update_statements.append(f\"\"\"\n",
    "        UPDATE datalink.lineagedemo.appointment_slots\n",
    "        SET is_available = TRUE\n",
    "        WHERE slot_id = '{old_slot_id}';\n",
    "        \"\"\")\n",
    "\n",
    "# Execute the main booking operation\n",
    "headers = {\n",
    "    \"Authorization\": f\"Bearer {bearer_token}\",\n",
    "    \"Content-Type\": \"application/json\"\n",
    "}\n",
    "\n",
    "payload = {\n",
    "    \"statement\": statement,\n",
    "    \"wait_timeout\": \"50s\",\n",
    "    \"warehouse_id\": warehouse_id\n",
    "}\n",
    "\n",
    "response = requests.post(url, headers=headers, json=payload)\n",
    "\n",
    "if response.status_code != 200:\n",
    "    return f\"Booking operation failed: {response.status_code} - {response.text}\"\n",
    "\n",
    "# Execute slot update SQLs\n",
    "for slot_update in slot_update_statements:\n",
    "    slot_payload = {\n",
    "        \"statement\": slot_update,\n",
    "        \"wait_timeout\": \"50s\",\n",
    "        \"warehouse_id\": warehouse_id\n",
    "    }\n",
    "    slot_response = requests.post(url, headers=headers, json=slot_payload)\n",
    "    if slot_response.status_code != 200:\n",
    "        return f\"Booking operation succeeded but slot update failed: {slot_response.status_code} - {slot_response.text}\"\n",
    "\n",
    "# Return success message\n",
    "if operation_type == \"INSERT\":\n",
    "    return f\"Booking created. ID: {booking_id}, Status: CONFIRMED\"\n",
    "elif operation_type == \"UPDATE\":\n",
    "    return \"Booking updated successfully.\"\n",
    "elif operation_type == \"DELETE\":\n",
    "    return \"Booking deleted successfully.\"\n",
    "$$;\n"
   ]
  },
  {
   "cell_type": "markdown",
   "metadata": {
    "application/vnd.databricks.v1+cell": {
     "cellMetadata": {},
     "inputWidgets": {},
     "nuid": "b5e7315f-7663-49d7-8e22-3017a61ec269",
     "showTitle": false,
     "tableResultSettingsMap": {},
     "title": ""
    }
   },
   "source": [
    "### GET_CUSTOMER_DETAILS"
   ]
  },
  {
   "cell_type": "code",
   "execution_count": 0,
   "metadata": {
    "application/vnd.databricks.v1+cell": {
     "cellMetadata": {
      "byteLimit": 2048000,
      "implicitDf": true,
      "rowLimit": 10000
     },
     "inputWidgets": {},
     "nuid": "1512f84f-7a91-4cb5-849e-65fc027d2113",
     "showTitle": false,
     "tableResultSettingsMap": {},
     "title": ""
    }
   },
   "outputs": [],
   "source": [
    "%sql\n",
    "CREATE OR REPLACE FUNCTION datalink.lineagedemo.get_customer_details(\n",
    "  Phone_no STRING COMMENT 'Phone number input to search for the customer'\n",
    ")\n",
    "RETURNS TABLE\n",
    "(\n",
    "  customer_id STRING COMMENT 'Unique ID of the customer',\n",
    "  vehicle_id STRING COMMENT 'Unique ID of the associated vehicle',\n",
    "  customer_name STRING COMMENT 'Full name of the customer',\n",
    "  phone_number STRING COMMENT 'Phone number of the customer',\n",
    "  email STRING COMMENT 'Email address of the customer',\n",
    "  model STRING COMMENT 'Vehicle model',\n",
    "  plate_number STRING COMMENT 'License plate number of the vehicle',\n",
    "  year STRING COMMENT 'Year of manufacture of the vehicle'\n",
    ")\n",
    "COMMENT 'Returns customer and vehicle details based on phone number'\n",
    "RETURN \n",
    "(\n",
    "  SELECT \n",
    "    a.customer_id,\n",
    "    b.vehicle_id,\n",
    "    a.customer_name,\n",
    "    a.phone_number,\n",
    "    a.email,\n",
    "    b.model,\n",
    "    b.plate_number,\n",
    "    b.year\n",
    "  FROM \n",
    "    datalink.lineagedemo.customer a \n",
    "    LEFT JOIN datalink.lineagedemo.vehicle_info b \n",
    "      ON a.customer_id = b.customer_id\n",
    "  WHERE \n",
    "    REGEXP_REPLACE(a.phone_number, '[^0-9]', '') = REGEXP_REPLACE(Phone_no, '[^0-9]', '')\n",
    ");\n"
   ]
  }
 ],
 "metadata": {
  "application/vnd.databricks.v1+notebook": {
   "computePreferences": null,
   "dashboards": [],
   "environmentMetadata": {
    "base_environment": "",
    "environment_version": "2"
   },
   "inputWidgetPreferences": null,
   "language": "python",
   "notebookMetadata": {
    "mostRecentlyExecutedCommandWithImplicitDF": {
     "commandId": 4697275711044704,
     "dataframes": [
      "_sqldf"
     ]
    },
    "pythonIndentUnit": 4
   },
   "notebookName": "Updated_Create_Tools",
   "widgets": {}
  },
  "language_info": {
   "name": "python"
  }
 },
 "nbformat": 4,
 "nbformat_minor": 0
}