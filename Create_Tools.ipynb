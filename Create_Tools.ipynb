{
 "cells": [
  {
   "cell_type": "markdown",
   "metadata": {
    "application/vnd.databricks.v1+cell": {
     "cellMetadata": {},
     "inputWidgets": {},
     "nuid": "673348b7-7b00-4dbb-9fae-86a8cebd36b2",
     "showTitle": false,
     "tableResultSettingsMap": {},
     "title": ""
    }
   },
   "source": [
    "### INSERT CUSTOMER DETAILS"
   ]
  },
  {
   "cell_type": "code",
   "execution_count": 0,
   "metadata": {
    "application/vnd.databricks.v1+cell": {
     "cellMetadata": {},
     "inputWidgets": {},
     "nuid": "30506ee6-4e0b-423c-b052-d49a254a03d3",
     "showTitle": false,
     "tableResultSettingsMap": {},
     "title": ""
    }
   },
   "outputs": [],
   "source": [
    "%sql\n",
    "CREATE OR REPLACE FUNCTION datalink.lineagedemo.insert_customer_details(\n",
    "    customer_name STRING,\n",
    "    phone_number STRING,\n",
    "    email STRING\n",
    ")\n",
    "RETURNS STRING\n",
    "LANGUAGE PYTHON\n",
    "AS $$\n",
    "\n",
    "\"\"\"\n",
    "Inserts a new customer record into the datalink.lineagedemo.customer table.\n",
    "\n",
    "Parameters:\n",
    "    customer_name: Name of the customer.\n",
    "    phone_number: Contact number of the customer.\n",
    "    email: Email address of the customer.\n",
    "\n",
    "Returns:\n",
    "    A string indicating success with customer ID, or failure with error details.\n",
    "\"\"\"\n",
    "import requests\n",
    "import json\n",
    "import uuid\n",
    "import re\n",
    "\n",
    "# Configuration for Databricks SQL API\n",
    "url = \"\" -- databricks_domain_url/api/2.0/sql/statements\n",
    "warehouse_id = \"\" -- warehouse ID\n",
    "bearer_token = \"\" -- bearer token\n",
    "\n",
    "# Generate a unique customer ID\n",
    "customer_id = str(uuid.uuid4())\n",
    "\n",
    "# Normalize phone number\n",
    "phone_number = re.sub(r'\\D', '', phone_number)\n",
    "\n",
    "# SQL statement to insert customer data\n",
    "statement = f\"\"\"\n",
    "INSERT INTO datalink.lineagedemo.customer(\n",
    "    customer_id, customer_name, phone_number, email\n",
    ")\n",
    "VALUES (\n",
    "    '{customer_id}', '{customer_name}', '{phone_number}', '{email}'\n",
    ")\n",
    "\"\"\"\n",
    "# Set HTTP headers for the API request\n",
    "headers = {\n",
    "    \"Authorization\": f\"Bearer {bearer_token}\",\n",
    "    \"Content-Type\": \"application/json\"\n",
    "}\n",
    "# Prepare the payload with SQL statement and settings\n",
    "payload = {\n",
    "    \"statement\": statement,\n",
    "    \"wait_timeout\": \"50s\",\n",
    "    \"warehouse_id\": warehouse_id\n",
    "}\n",
    "# Make the POST request to Databricks SQL API\n",
    "response = requests.post(url, headers=headers, json=payload)\n",
    "# Return success or error message based on response\n",
    "if response.status_code == 200:\n",
    "    return f\"Customer created. ID: {customer_id}\"\n",
    "else:\n",
    "    return f\"Failed: {response.status_code} - {response.text}\"\n",
    "$$;"
   ]
  },
  {
   "cell_type": "markdown",
   "metadata": {
    "application/vnd.databricks.v1+cell": {
     "cellMetadata": {},
     "inputWidgets": {},
     "nuid": "42039314-19d0-4269-a27f-dcbe1936d132",
     "showTitle": false,
     "tableResultSettingsMap": {},
     "title": ""
    }
   },
   "source": [
    "### INSERT VEHICLE DETAILS"
   ]
  },
  {
   "cell_type": "code",
   "execution_count": 0,
   "metadata": {
    "application/vnd.databricks.v1+cell": {
     "cellMetadata": {},
     "inputWidgets": {},
     "nuid": "aaa3ae30-beef-49ce-8332-0edbfe07300e",
     "showTitle": false,
     "tableResultSettingsMap": {},
     "title": ""
    }
   },
   "outputs": [],
   "source": [
    "%sql\n",
    "CREATE OR REPLACE FUNCTION datalink.lineagedemo.insert_vehicle_details(\n",
    "    cutomer_id STRING,\n",
    "    model STRING,\n",
    "    plate_number STRING,\n",
    "    year STRING\n",
    ")\n",
    "RETURNS STRING\n",
    "LANGUAGE PYTHON\n",
    "AS $$\n",
    "\"\"\"\n",
    "Inserts vehicle information for a customer into the datalink.lineagedemo.vehicle_info table.\n",
    "\n",
    "Parameters:\n",
    "    customer_id: Unique identifier of the customer.\n",
    "    model: Vehicle model (e.g., Toyota Corolla).\n",
    "    plate_number: License plate number of the vehicle.\n",
    "    year: Year of manufacture (e.g., 2022).\n",
    "\n",
    "Returns:\n",
    "    A string indicating success with vehicle ID, or failure with error details.\n",
    "\"\"\"\n",
    "\n",
    "import requests\n",
    "import json\n",
    "import uuid\n",
    "\n",
    "# Static configuration - Databricks SQL endpoint details\n",
    "url = \"\" -- databricks_domain_url/api/2.0/sql/statements\n",
    "warehouse_id = \"\" -- warehouse ID\n",
    "bearer_token = \"\" -- bearer token\n",
    "\n",
    "# Generate a new unique vehicle ID\n",
    "vehicle_id = str(uuid.uuid4())\n",
    "\n",
    "\n",
    "# Prepare SQL statement to insert the vehicle record\n",
    "statement = f\"\"\"\n",
    "INSERT INTO datalink.lineagedemo.vehicle_info(\n",
    "    vehicle_id, customer_id, model, plate_number, year\n",
    ")\n",
    "VALUES (\n",
    "    '{vehicle_id}', '{cutomer_id}', '{model}', '{plate_number}', '{year}'\n",
    ")\n",
    "\"\"\"\n",
    "# Set the headers for the API request\n",
    "headers = {\n",
    "    \"Authorization\": f\"Bearer {bearer_token}\",\n",
    "    \"Content-Type\": \"application/json\"\n",
    "}\n",
    "\n",
    "# Create the request payload\n",
    "payload = {\n",
    "    \"statement\": statement,\n",
    "    \"wait_timeout\": \"50s\",\n",
    "    \"warehouse_id\": warehouse_id\n",
    "}\n",
    "# Send the SQL execution request\n",
    "response = requests.post(url, headers=headers, json=payload)\n",
    "# Handle response\n",
    "if response.status_code == 200:\n",
    "    return f\"Vehicle info created. ID: {vehicle_id}\"\n",
    "else:\n",
    "    return f\"Failed: {response.status_code} - {response.text}\"\n",
    "$$;\n",
    "\n"
   ]
  },
  {
   "cell_type": "markdown",
   "metadata": {
    "application/vnd.databricks.v1+cell": {
     "cellMetadata": {},
     "inputWidgets": {},
     "nuid": "abb57b94-c0b6-42d7-9bda-9d3233490e67",
     "showTitle": false,
     "tableResultSettingsMap": {},
     "title": ""
    }
   },
   "source": [
    "### GET BOOKING STATUS INFO"
   ]
  },
  {
   "cell_type": "code",
   "execution_count": 0,
   "metadata": {
    "application/vnd.databricks.v1+cell": {
     "cellMetadata": {},
     "inputWidgets": {},
     "nuid": "30793347-277a-4fa3-8902-cefbd85cf553",
     "showTitle": false,
     "tableResultSettingsMap": {},
     "title": ""
    }
   },
   "outputs": [],
   "source": [
    "%sql\n",
    "CREATE OR REPLACE FUNCTION  datalink.lineagedemo.get_booking_status_info(vehicle_id STRING)\n",
    "RETURNS TABLE(\n",
    "    booking_id STRING,\n",
    "    center_id STRING,\n",
    "    center_name STRING,\n",
    "    slot_id STRING,\n",
    "    slot_datetime TIMESTAMP,\n",
    "    service_name STRING,\n",
    "    status STRING\n",
    ")\n",
    "RETURN (\n",
    "    /*\n",
    "        Retrieves booking status details for the given vehicle ID.\n",
    "        Returns booking info including center details, slot timing, service name, and current status.\n",
    "    */\n",
    "    SELECT \n",
    "        bsi.booking_id,\n",
    "        bsi.center_id,\n",
    "        sci.location,                /* Service center location */\n",
    "        bsi.slot_id,\n",
    "        aslot.slot_datetime,        /* Date and time of the appointment slot */        \n",
    "        st.service_name,            /* Name of the service booked */\n",
    "        bsi.status                  /* Current status of the booking */\n",
    "    FROM \n",
    "        datalink.lineagedemo.booking_status_info bsi\n",
    "    JOIN \n",
    "        datalink.lineagedemo.appointment_slots aslot \n",
    "        ON bsi.slot_id = aslot.slot_id\n",
    "    JOIN \n",
    "        datalink.lineagedemo.service_type st \n",
    "        ON bsi.service_type_id = st.service_type_id\n",
    "    JOIN \n",
    "        datalink.lineagedemo.service_center_info sci \n",
    "        ON bsi.center_id = sci.center_id\n",
    "    WHERE \n",
    "        bsi.vehicle_id = get_booking_status_info.vehicle_id\n",
    ")\n",
    "\n"
   ]
  },
  {
   "cell_type": "markdown",
   "metadata": {
    "application/vnd.databricks.v1+cell": {
     "cellMetadata": {},
     "inputWidgets": {},
     "nuid": "4457ccf4-8ba5-4071-a231-d0797bc2650c",
     "showTitle": false,
     "tableResultSettingsMap": {},
     "title": ""
    }
   },
   "source": [
    "### GET AVAILABLE SLOTS"
   ]
  },
  {
   "cell_type": "code",
   "execution_count": 0,
   "metadata": {
    "application/vnd.databricks.v1+cell": {
     "cellMetadata": {},
     "inputWidgets": {},
     "nuid": "10dc40a2-8e02-4c66-9dbb-46146b6487af",
     "showTitle": false,
     "tableResultSettingsMap": {},
     "title": ""
    }
   },
   "outputs": [],
   "source": [
    "%sql\n",
    "CREATE OR REPLACE FUNCTION  datalink.lineagedemo.get_available_slots(center_name STRING)\n",
    "RETURNS TABLE(slot_id STRING,center_id STRING, location STRING, slot_datetime TIMESTAMP, is_available BOOLEAN) \n",
    "RETURN \n",
    "  (\n",
    "  /*\n",
    "      Retrieves all upcoming available slots that match the given center name or location.\n",
    "      Filters out slots that are unavailable or scheduled in the past.\n",
    "  */\n",
    "  SELECT \n",
    "    slot_id,\n",
    "    b.center_id, \n",
    "    b.location,                             /* Location of the service center */\n",
    "    a.slot_datetime,                        /* Date and time of the available slot */\n",
    "    a.is_available                          /* Indicates if the slot is currently available */\n",
    "  FROM \n",
    "    datalink.lineagedemo.appointment_slots a \n",
    "  JOIN \n",
    "    datalink.lineagedemo.service_center_info b \n",
    "    ON a.center_id = b.center_id\n",
    "  WHERE \n",
    "  (\n",
    "    lower(b.location) LIKE '%' || lower(get_available_slots.center_name) || '%' \n",
    "    OR lower(b.center_name) LIKE '%' || lower(get_available_slots.center_name) || '%'\n",
    "  )\n",
    "  AND a.is_available = true                -- Only show slots that are available\n",
    "  and slot_datetime>=current_timestamp()   -- Only include future slots\n",
    "  ORDER BY \n",
    "    a.slot_datetime                        -- Sort by earliest slot first\n",
    ")\n",
    "\n",
    "\n"
   ]
  },
  {
   "cell_type": "markdown",
   "metadata": {
    "application/vnd.databricks.v1+cell": {
     "cellMetadata": {},
     "inputWidgets": {},
     "nuid": "3d81a0a0-2f99-4233-986b-18ea1b348a26",
     "showTitle": false,
     "tableResultSettingsMap": {},
     "title": ""
    }
   },
   "source": [
    "### IS_SLOT_UPDATE_ALLOWED"
   ]
  },
  {
   "cell_type": "code",
   "execution_count": 0,
   "metadata": {
    "application/vnd.databricks.v1+cell": {
     "cellMetadata": {},
     "inputWidgets": {},
     "nuid": "d600bc9d-31df-46a4-bd9e-9b72baba8bf5",
     "showTitle": false,
     "tableResultSettingsMap": {},
     "title": ""
    }
   },
   "outputs": [],
   "source": [
    "%sql\n",
    "CREATE OR REPLACE FUNCTION datalink.lineagedemo.is_slot_update_allowed(booking_id STRING)\n",
    "RETURNS BOOLEAN\n",
    "RETURN\n",
    "    (\n",
    "    /*\n",
    "        Checks whether the slot for a given booking can still be updated.\n",
    "        Allows updates only if the appointment is more than 48 hours from the current time.\n",
    "    */\n",
    "        SELECT CASE \n",
    "            WHEN MIN(slot_datetime) - CURRENT_TIMESTAMP > INTERVAL 48 HOURS THEN TRUE           -- Update allowed\n",
    "            ELSE FALSE                                                                          -- Update not allowed\n",
    "        END\n",
    "        FROM datalink.lineagedemo.appointment_slots a\n",
    "        JOIN datalink.lineagedemo.booking_status_info b\n",
    "        ON a.slot_id = b.slot_id\n",
    "        WHERE b.booking_id = is_slot_update_allowed.booking_id\n",
    "    );\n"
   ]
  },
  {
   "cell_type": "markdown",
   "metadata": {
    "application/vnd.databricks.v1+cell": {
     "cellMetadata": {},
     "inputWidgets": {},
     "nuid": "00f48e3c-11cb-40c1-90f9-02f44e70d04f",
     "showTitle": false,
     "tableResultSettingsMap": {},
     "title": ""
    }
   },
   "source": [
    "### GET_AVAILABLE_SERVICE"
   ]
  },
  {
   "cell_type": "code",
   "execution_count": 0,
   "metadata": {
    "application/vnd.databricks.v1+cell": {
     "cellMetadata": {},
     "inputWidgets": {},
     "nuid": "07937cc1-a3ea-4512-b3a9-a5be2a4f3901",
     "showTitle": false,
     "tableResultSettingsMap": {},
     "title": ""
    }
   },
   "outputs": [],
   "source": [
    "%sql\n",
    "CREATE OR REPLACE FUNCTION  datalink.lineagedemo.get_available_service()\n",
    "RETURNS TABLE(service_type_id STRING, service_name STRING, description STRING)\n",
    "RETURN (\n",
    "  /*\n",
    "    Retrieves all available service types including their IDs, names, and descriptions.\n",
    "    This function returns the complete list without any filters.\n",
    "  */\n",
    "  SELECT *\n",
    "  FROM datalink.lineagedemo.service_type\n",
    ");"
   ]
  },
  {
   "cell_type": "markdown",
   "metadata": {
    "application/vnd.databricks.v1+cell": {
     "cellMetadata": {},
     "inputWidgets": {},
     "nuid": "620df89f-48b9-4744-9f62-04dfc99352c5",
     "showTitle": false,
     "tableResultSettingsMap": {},
     "title": ""
    }
   },
   "source": [
    "### PROCESS_BOOKING_STATUS"
   ]
  },
  {
   "cell_type": "code",
   "execution_count": 0,
   "metadata": {
    "application/vnd.databricks.v1+cell": {
     "cellMetadata": {},
     "inputWidgets": {},
     "nuid": "de77d77c-87b8-4b75-8934-bd1e6e2bc3bc",
     "showTitle": false,
     "tableResultSettingsMap": {},
     "title": ""
    }
   },
   "outputs": [],
   "source": [
    "%sql\n",
    "CREATE OR REPLACE FUNCTION datalink.lineagedemo.process_booking_status(\n",
    "    customer_id STRING,\n",
    "    vehicle_id STRING,\n",
    "    center_id STRING,\n",
    "    slot_id STRING,\n",
    "    service_type_id STRING,\n",
    "    old_slot_id STRING,\n",
    "    operation_type STRING\n",
    ")\n",
    "RETURNS STRING\n",
    "LANGUAGE PYTHON\n",
    "AS $$\n",
    "\"\"\"\n",
    "This function processes a booking operation (INSERT, UPDATE, DELETE) in the booking_status_info table.\n",
    "\n",
    "- INSERT: Creates a new booking with status 'CONFIRMED' and updates the slot availability.\n",
    "- UPDATE: Updates an existing booking's center, slot, and service info, and adjusts slot availability if changed.\n",
    "- DELETE: Removes a booking and marks its slot as available.\n",
    "\n",
    "Parameters:\n",
    "    customer_id: ID of the customer\n",
    "    vehicle_id: ID of the vehicle\n",
    "    center_id: ID of the service center\n",
    "    slot_id: ID of the new appointment slot\n",
    "    service_type_id: ID of the service type\n",
    "    old_slot_id: ID of the previously booked slot (used for update/delete)\n",
    "    operation_type: Type of operation - INSERT, UPDATE, or DELETE\n",
    "\n",
    "Returns:\n",
    "    A status message string indicating success or failure.\n",
    "\"\"\"\n",
    "import requests\n",
    "import json\n",
    "import uuid\n",
    "\n",
    "# Static configuration\n",
    "url = \"\" -- databricks_domain_url/api/2.0/sql/statements\n",
    "warehouse_id = \"\" -- warehouse ID\n",
    "bearer_token = \"\" -- bearer token\n",
    "\n",
    "# Generate booking ID for INSERT operations\n",
    "booking_id = str(uuid.uuid4()) if operation_type == \"INSERT\" else \"\"\n",
    "\n",
    "# Construct main SQL statement based on operation type\n",
    "if operation_type == \"INSERT\":\n",
    "    # Insert a new booking with CONFIRMED status\n",
    "    statement = f\"\"\"\n",
    "    INSERT INTO datalink.lineagedemo.booking_status_info (\n",
    "        booking_id, customer_id, vehicle_id, center_id, slot_id, service_type_id, status\n",
    "    )\n",
    "    VALUES (\n",
    "        '{booking_id}', '{customer_id}', '{vehicle_id}', '{center_id}', '{slot_id}', '{service_type_id}', 'CONFIRMED'\n",
    "    );\n",
    "    \"\"\"\n",
    "elif operation_type == \"UPDATE\":\n",
    "    # Update the booking details\n",
    "    statement = f\"\"\"\n",
    "    UPDATE datalink.lineagedemo.booking_status_info\n",
    "    SET status = 'CONFIRMED',\n",
    "        center_id = '{center_id}',\n",
    "        slot_id = '{slot_id}',\n",
    "        service_type_id = '{service_type_id}'\n",
    "    WHERE customer_id = '{customer_id}' AND vehicle_id = '{vehicle_id}';\n",
    "    \"\"\"\n",
    "elif operation_type == \"DELETE\":\n",
    "    # Delete the booking\n",
    "    statement = f\"\"\"\n",
    "    DELETE FROM datalink.lineagedemo.booking_status_info\n",
    "    WHERE customer_id = '{customer_id}' AND vehicle_id = '{vehicle_id}';\n",
    "    \"\"\"\n",
    "else:\n",
    "    return f\"Invalid operation type: {operation_type}. Use INSERT, UPDATE, or DELETE.\"\n",
    "\n",
    "# Prepare slot update statements\n",
    "slot_update_statements = []\n",
    "\n",
    "# If inserting or updating to a new slot, mark it unavailable\n",
    "if operation_type == \"INSERT\" or (operation_type == \"UPDATE\" and old_slot_id != slot_id):\n",
    "    # Mark the new slot as booked\n",
    "    slot_update_statements.append(f\"\"\"\n",
    "    UPDATE datalink.lineagedemo.appointment_slots\n",
    "    SET is_available = FALSE\n",
    "    WHERE slot_id = '{slot_id}';\n",
    "    \"\"\")\n",
    "# If deleting or updating away from old slot, free up old slot\n",
    "if operation_type == \"DELETE\" or (operation_type == \"UPDATE\" and old_slot_id != slot_id):\n",
    "    # Free up the old slot if the slot has changed\n",
    "    if old_slot_id:\n",
    "        slot_update_statements.append(f\"\"\"\n",
    "        UPDATE datalink.lineagedemo.appointment_slots\n",
    "        SET is_available = TRUE\n",
    "        WHERE slot_id = '{old_slot_id}';\n",
    "        \"\"\")\n",
    "\n",
    "# Execute the main booking operation\n",
    "headers = {\n",
    "    \"Authorization\": f\"Bearer {bearer_token}\",\n",
    "    \"Content-Type\": \"application/json\"\n",
    "}\n",
    "\n",
    "payload = {\n",
    "    \"statement\": statement,\n",
    "    \"wait_timeout\": \"50s\",\n",
    "    \"warehouse_id\": warehouse_id\n",
    "}\n",
    "\n",
    "response = requests.post(url, headers=headers, json=payload)\n",
    "\n",
    "if response.status_code != 200:\n",
    "    return f\"Booking operation failed: {response.status_code} - {response.text}\"\n",
    "\n",
    "# Execute slot update SQLs\n",
    "for slot_update in slot_update_statements:\n",
    "    slot_payload = {\n",
    "        \"statement\": slot_update,\n",
    "        \"wait_timeout\": \"50s\",\n",
    "        \"warehouse_id\": warehouse_id\n",
    "    }\n",
    "    slot_response = requests.post(url, headers=headers, json=slot_payload)\n",
    "    if slot_response.status_code != 200:\n",
    "        return f\"Booking operation succeeded but slot update failed: {slot_response.status_code} - {slot_response.text}\"\n",
    "\n",
    "# Return success message\n",
    "if operation_type == \"INSERT\":\n",
    "    return f\"Booking created. ID: {booking_id}, Status: CONFIRMED\"\n",
    "elif operation_type == \"UPDATE\":\n",
    "    return \"Booking updated successfully.\"\n",
    "elif operation_type == \"DELETE\":\n",
    "    return \"Booking deleted successfully.\"\n",
    "$$;"
   ]
  },
  {
   "cell_type": "markdown",
   "metadata": {
    "application/vnd.databricks.v1+cell": {
     "cellMetadata": {},
     "inputWidgets": {},
     "nuid": "5c65a299-859e-4f3b-b7ce-51ed46603e01",
     "showTitle": false,
     "tableResultSettingsMap": {},
     "title": ""
    }
   },
   "source": [
    "### GET_CUSTOMER_DETAILS"
   ]
  },
  {
   "cell_type": "code",
   "execution_count": 0,
   "metadata": {
    "application/vnd.databricks.v1+cell": {
     "cellMetadata": {},
     "inputWidgets": {},
     "nuid": "9260a105-8454-43b8-b8b2-9c1a40edced7",
     "showTitle": false,
     "tableResultSettingsMap": {},
     "title": ""
    }
   },
   "outputs": [],
   "source": [
    "%sql\n",
    "CREATE OR REPLACE FUNCTION datalink.lineagedemo.get_customer_details( Phone_no STRING)\n",
    "RETURNS TABLE\n",
    "(\n",
    "  customer_id STRING,\n",
    "  vehicle_id STRING, \n",
    "  customer_name STRING,\n",
    "  phone_number STRING,\n",
    "  email STRING,\n",
    "  model STRING,\n",
    "  plate_number STRING,\n",
    "  year STRING\n",
    ")\n",
    "RETURN \n",
    "(\n",
    "  -- Returns customer and their vehicle details based on the provided phone number\n",
    "  SELECT \n",
    "    a.customer_id,vehicle_id,customer_name, phone_number, email,model,plate_number,year\n",
    "  FROM \n",
    "    datalink.lineagedemo.customer a join vehicle_info b on a.customer_id=b.customer_id\n",
    "  WHERE \n",
    "    phone_number = REGEXP_REPLACE(get_customer_details.Phone_no, '[^0-9]', '')\n",
    ")"
   ]
  }
 ],
 "metadata": {
  "application/vnd.databricks.v1+notebook": {
   "computePreferences": null,
   "dashboards": [],
   "environmentMetadata": {
    "base_environment": "",
    "environment_version": "2"
   },
   "inputWidgetPreferences": null,
   "language": "python",
   "notebookMetadata": {
    "pythonIndentUnit": 4
   },
   "notebookName": "Create_Tools",
   "widgets": {}
  },
  "language_info": {
   "name": "python"
  }
 },
 "nbformat": 4,
 "nbformat_minor": 0
}
