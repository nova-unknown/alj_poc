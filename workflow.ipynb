{
 "cells": [
  {
   "cell_type": "code",
   "execution_count": 0,
   "metadata": {
    "application/vnd.databricks.v1+cell": {
     "cellMetadata": {},
     "inputWidgets": {},
     "nuid": "fb2b9834-de67-4586-a7c2-523374933b17",
     "showTitle": false,
     "tableResultSettingsMap": {},
     "title": ""
    }
   },
   "outputs": [],
   "source": [
    "resources:\n",
    "  jobs:\n",
    "    cc_agent_job:\n",
    "      name: cc_agent_job\n",
    "      trigger:\n",
    "        pause_status: UNPAUSED\n",
    "        file_arrival:\n",
    "          url: /Volumes/datalink/lineagedemo/input_audio/   #path to input audio \n",
    "      tasks:\n",
    "        - task_key: STT_Converter\n",
    "          notebook_task:\n",
    "            notebook_path: /Workspace/Users/novidemo@outlook.com/STT_Notebook #path to stt notebook\n",
    "            source: WORKSPACE\n",
    "        - task_key: Trigger_mosac_ai\n",
    "          depends_on:\n",
    "            - task_key: STT_Converter\n",
    "          notebook_task:\n",
    "            notebook_path: /Workspace/Users/novidemo@outlook.com/Agent_Notebook   #path to agent notebook\n",
    "            base_parameters:\n",
    "              prompt: \"{{tasks.STT_Converter.values.prompt}}\"\n",
    "            source: WORKSPACE\n",
    "        - task_key: TTS_converter\n",
    "          depends_on:\n",
    "            - task_key: Trigger_mosac_ai\n",
    "          notebook_task:\n",
    "            notebook_path: /Workspace/Users/novidemo@outlook.com/TTS_Notebook  #path to tts notebook\n",
    "            base_parameters:\n",
    "              text: \"{{tasks.Trigger_mosac_ai.values.text}}\"\n",
    "              lang: \"{{tasks.STT_Converter.values.lang}}\"\n",
    "            source: WORKSPACE\n",
    "      queue:\n",
    "        enabled: true\n"
   ]
  }
 ],
 "metadata": {
  "application/vnd.databricks.v1+notebook": {
   "computePreferences": null,
   "dashboards": [],
   "environmentMetadata": {
    "base_environment": "",
    "environment_version": "2"
   },
   "inputWidgetPreferences": null,
   "language": "python",
   "notebookMetadata": {
    "pythonIndentUnit": 4
   },
   "notebookName": "workflow",
   "widgets": {}
  },
  "language_info": {
   "name": "python"
  }
 },
 "nbformat": 4,
 "nbformat_minor": 0
}