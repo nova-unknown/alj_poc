{
 "cells": [
  {
   "cell_type": "code",
   "execution_count": 0,
   "metadata": {
    "application/vnd.databricks.v1+cell": {
     "cellMetadata": {
      "byteLimit": 2048000,
      "rowLimit": 10000
     },
     "inputWidgets": {},
     "nuid": "107d2e95-49d4-4655-8743-7b67dff70bfd",
     "showTitle": false,
     "tableResultSettingsMap": {},
     "title": ""
    }
   },
   "outputs": [],
   "source": [
    "import requests\n",
    "import json\n",
    "import os\n",
    "\n",
    "# Define the path to store conversation history\n",
    "history_path = # conversation history path to the json file\n",
    "\n",
    "def load_conversation_history():\n",
    "    if os.path.exists(history_path):\n",
    "        with open(history_path, \"r\") as f:\n",
    "            return json.load(f)\n",
    "    else:\n",
    "        return []\n",
    "\n",
    "def save_conversation_history(history):\n",
    "    with open(history_path, \"w\") as f:\n",
    "        json.dump(history, f)\n",
    "\n",
    "def call_agent(prompt):\n",
    "    url = # end point url for calling the agent \n",
    "    bearer_token = # Bearer token\n",
    "    \n",
    "    # Load history\n",
    "    conversation_history = load_conversation_history()\n",
    "    \n",
    "    # Add user prompt\n",
    "    conversation_history.append({\"role\": \"user\", \"content\": prompt})\n",
    "\n",
    "    payload = {\n",
    "        \"messages\": conversation_history,\n",
    "        \"model\": \"\", # enter the model name\n",
    "        \"max_tokens\": 200\n",
    "    }\n",
    "\n",
    "    headers = {\n",
    "        \"Authorization\": f\"Bearer {bearer_token}\",\n",
    "        \"Content-Type\": \"application/json\"\n",
    "    }\n",
    "\n",
    "    response = requests.post(url, headers=headers, json=payload)\n",
    "    response_data = response.json().get(\"messages\", [])\n",
    "\n",
    "    llm_response = \" \".join(\n",
    "        [msg['content'].strip() for msg in response_data if msg.get('role') == 'assistant']\n",
    "    )\n",
    "\n",
    "    # Append assistant's response\n",
    "    conversation_history.append({\"role\": \"assistant\", \"content\": llm_response})\n",
    "\n",
    "    # Save updated history to JSON\n",
    "    save_conversation_history(conversation_history)\n",
    "\n",
    "    return llm_response\n",
    "\n",
    "# Get prompt from STT task (replace with your actual key if needed)\n",
    "prompt = dbutils.jobs.taskValues.get(taskKey=\"STT_Converter\", key=\"prompt\")\n",
    "\n",
    "# Call the agent\n",
    "llm_response = call_agent(prompt)\n",
    "\n",
    "# Store the response (you can use this in other tasks if needed)\n",
    "dbutils.jobs.taskValues.set(key=\"text\", value=llm_response)\n"
   ]
  },
  {
   "cell_type": "code",
   "execution_count": 0,
   "metadata": {
    "application/vnd.databricks.v1+cell": {
     "cellMetadata": {},
     "inputWidgets": {},
     "nuid": "ca724806-f150-4cd9-9eb4-3e3a8875dcc5",
     "showTitle": false,
     "tableResultSettingsMap": {},
     "title": ""
    }
   },
   "outputs": [],
   "source": []
  }
 ],
 "metadata": {
  "application/vnd.databricks.v1+notebook": {
   "computePreferences": null,
   "dashboards": [],
   "environmentMetadata": {
    "base_environment": "",
    "environment_version": "2"
   },
   "inputWidgetPreferences": null,
   "language": "python",
   "notebookMetadata": {
    "pythonIndentUnit": 4
   },
   "notebookName": "Agent_Notebook",
   "widgets": {}
  },
  "language_info": {
   "name": "python"
  }
 },
 "nbformat": 4,
 "nbformat_minor": 0
}
