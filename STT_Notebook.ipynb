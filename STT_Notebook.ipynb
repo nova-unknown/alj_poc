{
 "cells": [
  {
   "cell_type": "markdown",
   "metadata": {
    "application/vnd.databricks.v1+cell": {
     "cellMetadata": {},
     "inputWidgets": {},
     "nuid": "28dfc621-8abe-4419-90e2-9037b3492ebe",
     "showTitle": false,
     "tableResultSettingsMap": {},
     "title": ""
    }
   },
   "source": [
    "# Whisper v3 endpoint to accept speech and convert it to text"
   ]
  },
  {
   "cell_type": "code",
   "execution_count": 0,
   "metadata": {
    "application/vnd.databricks.v1+cell": {
     "cellMetadata": {
      "byteLimit": 2048000,
      "rowLimit": 10000
     },
     "inputWidgets": {},
     "nuid": "8fb7a544-97a0-490f-b640-40c2f65d281a",
     "showTitle": false,
     "tableResultSettingsMap": {},
     "title": ""
    }
   },
   "outputs": [],
   "source": [
    "import os\n",
    "import base64\n",
    "import requests\n",
    "\n",
    "# Store your token securely\n",
    "os.environ['DATABRICKS_TOKEN'] = dbutils.notebook.entry_point.getDbutils().notebook().getContext().apiToken().get()\n",
    "DATABRICKS_TOKEN = os.environ.get(\"DATABRICKS_TOKEN\")\n",
    "\n",
    "def transcribe_arabic_audio(audio_path: str) -> str:\n",
    "    url = # Whisper end point url\n",
    "    headers = {\n",
    "        \"Authorization\": f\"Bearer {DATABRICKS_TOKEN}\",\n",
    "        \"Content-Type\": \"application/json\"\n",
    "    }\n",
    "\n",
    "    # Encode audio file as base64\n",
    "    with open(audio_path, \"rb\") as f:\n",
    "        audio_b64 = base64.b64encode(f.read()).decode(\"utf-8\")\n",
    "\n",
    "    payload = {\n",
    "        \"inputs\": [audio_b64]\n",
    "    }\n",
    "\n",
    "    response = requests.post(url, headers=headers, json=payload)\n",
    "\n",
    "    if response.status_code != 200:\n",
    "        print(\"Transcription failed:\", response.status_code, response.text)\n",
    "        return \"\"\n",
    "    \n",
    "    arabic_text = response.json().get(\"predictions\", [\"\"])[0]\n",
    "    return arabic_text"
   ]
  },
  {
   "cell_type": "code",
   "execution_count": 0,
   "metadata": {
    "application/vnd.databricks.v1+cell": {
     "cellMetadata": {
      "byteLimit": 2048000,
      "rowLimit": 10000
     },
     "inputWidgets": {},
     "nuid": "6aa8d7d8-8255-457b-9d12-9dbd9de41c5c",
     "showTitle": false,
     "tableResultSettingsMap": {},
     "title": ""
    }
   },
   "outputs": [],
   "source": [
    "# this function detects the language of the result of STT model\n",
    "def detect_language_claude(text: str) -> str:\n",
    "    url = # Claude end point url to detect language\n",
    "    headers = {\n",
    "        \"Authorization\": f\"Bearer {DATABRICKS_TOKEN}\",\n",
    "        \"Content-Type\": \"application/json\"\n",
    "    }\n",
    "\n",
    "    payload = {\n",
    "        \"messages\": [\n",
    "            {\n",
    "                \"role\": \"user\",\n",
    "                \"content\": f\"What is the language of the following text?\\n\\n{text}\"\n",
    "            }\n",
    "        ]\n",
    "    }\n",
    "\n",
    "    response = requests.post(url, headers=headers, json=payload)\n",
    "    if response.status_code != 200:\n",
    "        print(\"Language detection failed:\", response.status_code, response.text)\n",
    "        return \"unknown\"\n",
    "    \n",
    "    return response.json()[\"choices\"][0][\"message\"][\"content\"].strip().lower()"
   ]
  },
  {
   "cell_type": "code",
   "execution_count": 0,
   "metadata": {
    "application/vnd.databricks.v1+cell": {
     "cellMetadata": {
      "byteLimit": 2048000,
      "rowLimit": 10000
     },
     "inputWidgets": {},
     "nuid": "d9a5be1e-ddf1-40a4-b4e4-a432c4f2167d",
     "showTitle": false,
     "tableResultSettingsMap": {},
     "title": ""
    }
   },
   "outputs": [],
   "source": [
    "# function converts the arabic text to english\n",
    "def translate_arabic_to_english_claude(arabic_text: str) -> str:\n",
    "    url = # Claude end point url to translate arabic text\n",
    "    headers = {\n",
    "        \"Authorization\": f\"Bearer {DATABRICKS_TOKEN}\",\n",
    "        \"Content-Type\": \"application/json\"\n",
    "    }\n",
    "\n",
    "    payload = {\n",
    "        \"messages\": [\n",
    "            {\n",
    "                \"role\": \"user\",\n",
    "                \"content\": f\"Translate this Arabic text to English:\\n\\n{arabic_text}\"\n",
    "            }\n",
    "        ]\n",
    "    }\n",
    "\n",
    "    response = requests.post(url, headers=headers, json=payload)\n",
    "    if response.status_code != 200:\n",
    "        print(\"Claude translation failed:\", response.status_code, response.text)\n",
    "        return \"\"\n",
    "    \n",
    "    return response.json()[\"choices\"][0][\"message\"][\"content\"].strip()\n"
   ]
  },
  {
   "cell_type": "markdown",
   "metadata": {
    "application/vnd.databricks.v1+cell": {
     "cellMetadata": {},
     "inputWidgets": {},
     "nuid": "1faa2b2f-75aa-41d6-82cd-1962fc47062e",
     "showTitle": false,
     "tableResultSettingsMap": {},
     "title": ""
    }
   },
   "source": [
    "#main block"
   ]
  },
  {
   "cell_type": "code",
   "execution_count": 0,
   "metadata": {
    "application/vnd.databricks.v1+cell": {
     "cellMetadata": {
      "byteLimit": 2048000,
      "rowLimit": 10000
     },
     "inputWidgets": {},
     "nuid": "c55f9aa8-d8a0-4b00-8a41-d46e8acfdbc1",
     "showTitle": false,
     "tableResultSettingsMap": {},
     "title": ""
    }
   },
   "outputs": [],
   "source": [
    "# audio_file_path = \"/Volumes/datalink/lineagedemo/input_audio/English_appointment_conversation.mp3\"\n",
    "audio_file_path = # Audio file path\n",
    "\n",
    "# Transcribe the audio\n",
    "transcript = transcribe_arabic_audio(audio_file_path) # converts arabic speech to arabic text\n",
    "\n",
    "if transcript:\n",
    "    detected_lang = detect_language_claude(transcript)\n",
    "    if \"english\" in detected_lang: # the text is already in english and can be passed as a prompt to Mosaic\n",
    "        pass\n",
    "    else:\n",
    "        transcript = translate_arabic_to_english_claude(transcript) #convert arabic text to english text for Mosaic\n",
    "\n",
    "print(transcript)\n",
    "dbutils.jobs.taskValues.set(key = \"prompt\", value = transcript)\n",
    "dbutils.jobs.taskValues.set(key = \"lang\", value = detected_lang)"
   ]
  }
 ],
 "metadata": {
  "application/vnd.databricks.v1+notebook": {
   "computePreferences": null,
   "dashboards": [],
   "environmentMetadata": {
    "base_environment": "",
    "environment_version": "2"
   },
   "inputWidgetPreferences": null,
   "language": "python",
   "notebookMetadata": {
    "pythonIndentUnit": 4
   },
   "notebookName": "STT_Notebook",
   "widgets": {}
  },
  "language_info": {
   "name": "python"
  }
 },
 "nbformat": 4,
 "nbformat_minor": 0
}
