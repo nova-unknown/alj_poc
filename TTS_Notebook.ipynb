{
 "cells": [
  {
   "cell_type": "code",
   "execution_count": 0,
   "metadata": {
    "application/vnd.databricks.v1+cell": {
     "cellMetadata": {
      "byteLimit": 2048000,
      "rowLimit": 10000
     },
     "inputWidgets": {},
     "nuid": "a18912d9-6c28-456e-ac72-0582a8da233e",
     "showTitle": false,
     "tableResultSettingsMap": {},
     "title": ""
    },
    "jupyter": {
     "outputs_hidden": true
    }
   },
   "outputs": [],
   "source": [
    "%python\n",
    "%pip install gtts"
   ]
  },
  {
   "cell_type": "code",
   "execution_count": 0,
   "metadata": {
    "application/vnd.databricks.v1+cell": {
     "cellMetadata": {},
     "inputWidgets": {},
     "nuid": "b021c094-c00c-4697-bf9f-eb6007faf18e",
     "showTitle": false,
     "tableResultSettingsMap": {},
     "title": ""
    }
   },
   "outputs": [],
   "source": [
    "import os\n",
    "from gtts import gTTS\n",
    "\n",
    "def text_to_speech(text):\n",
    "    # Detect the language of the input text\n",
    "    detected_lang = dbutils.jobs.taskValues.get(taskKey = \"STT_Converter\", key = \"lang\")\n",
    "\n",
    "    # Use detected language for TTS\n",
    "    tts = gTTS(text=text, lang=detected_lang) #either 'ar' or 'en'\n",
    "    # tts.save('/Volumes/datalink/lineagedemo/ouput_audio/output.mp3')\n",
    "    tts.save(\"\") # path to the output audio file\n"
   ]
  },
  {
   "cell_type": "code",
   "execution_count": 0,
   "metadata": {
    "application/vnd.databricks.v1+cell": {
     "cellMetadata": {},
     "inputWidgets": {},
     "nuid": "f1bbb602-086f-403c-91ce-c2c44162cfc0",
     "showTitle": false,
     "tableResultSettingsMap": {},
     "title": ""
    }
   },
   "outputs": [],
   "source": [
    "text=dbutils.jobs.taskValues.get(taskKey = \"Trigger_mosac_ai\", key = \"text\")\n",
    "text_to_speech(text)\n",
    "\n"
   ]
  }
 ],
 "metadata": {
  "application/vnd.databricks.v1+notebook": {
   "computePreferences": null,
   "dashboards": [],
   "environmentMetadata": {
    "base_environment": "",
    "environment_version": "2"
   },
   "inputWidgetPreferences": null,
   "language": "python",
   "notebookMetadata": {
    "pythonIndentUnit": 4
   },
   "notebookName": "TTS_Notebook",
   "widgets": {}
  },
  "language_info": {
   "name": "python"
  }
 },
 "nbformat": 4,
 "nbformat_minor": 0
}
